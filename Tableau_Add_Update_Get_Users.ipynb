{
 "cells": [
  {
   "cell_type": "markdown",
   "metadata": {},
   "source": [
    "# Tableau Credential Management"
   ]
  },
  {
   "cell_type": "markdown",
   "metadata": {},
   "source": [
    "#### This script can help manage credentials programatically. It includes 4 components: \n",
    "1. Add new users to multiple sites;\n",
    "2. Change existing users' password or site role;\n",
    "3. Get user info from multiple sites;\n",
    "4. Get user info from all current sites (except some sites you really reall don't like)\n",
    "5. Remove users from multiple sites."
   ]
  },
  {
   "cell_type": "markdown",
   "metadata": {},
   "source": [
    "## ***Add New Users"
   ]
  },
  {
   "cell_type": "code",
   "execution_count": 11,
   "metadata": {
    "collapsed": false
   },
   "outputs": [],
   "source": [
    "from tableau_rest_api.tableau_rest_api import *\n",
    "import csv\n",
    "\n",
    "server = 'https://bi.tune.com'\n",
    "loginName = 'xiaojuan'\n",
    "loginPasswd = 'Has0ffers'\n",
    "user_info = []\n",
    "\n",
    "def read_csv_file(fileName):\n",
    "    with open(fileName, 'rU') as file:\n",
    "        read_file = csv.reader(file)\n",
    "        header = read_file.next()\n",
    "        for line in read_file:\n",
    "            user_info.append(line)\n",
    "    file.close()\n",
    "    return user_info\n",
    "\n",
    "def add_user(user_info):\n",
    "    for site, username, fullname, siterole, password, email in user_info:\n",
    "        t = TableauRestApi(server, loginName, loginPasswd, site)\n",
    "        t.signin()\n",
    "        #print 'Signin Succeed'\n",
    "        t.add_user_by_username(username, site_role = siterole, update_if_exists=True)\n",
    "        print '%s added to Site: %s'%(username, site)\n",
    "    t.signout()\n",
    "    print 'All Users Added'\n",
    "    for site, username, fullname, siterole, password, email in user_info:\n",
    "        t = TableauRestApi(server, loginName, loginPasswd, site)\n",
    "        t.signin()\n",
    "        users_in_server = t.query_users()\n",
    "        for user in users_in_server:\n",
    "            if user.get('name') == username:\n",
    "                t.update_user_by_username(user.get('name'), password = password, full_name = fullname, email = email)\n",
    "                print 'User: %s updated'%username\n",
    "    t.signout()\n",
    "    print 'All user updated'\n",
    "    print 'Mission completed'"
   ]
  },
  {
   "cell_type": "code",
   "execution_count": 12,
   "metadata": {
    "collapsed": false,
    "scrolled": true
   },
   "outputs": [
    {
     "name": "stdout",
     "output_type": "stream",
     "text": [
      "test1 added to Site: TuneBIDemo\n",
      "test2 added to Site: Uber\n",
      "test3 added to Site: BetaTest\n",
      "test4 added to Site: BetaTest2\n",
      "All Users Added\n",
      "User: test1 updated\n",
      "User: test2 updated\n",
      "User: test3 updated\n",
      "User: test4 updated\n",
      "All user updated\n",
      "Mission completed\n"
     ]
    }
   ],
   "source": [
    "fileName = 'add_user.csv'\n",
    "user_info = read_csv_file(fileName)\n",
    "add_user(user_info)"
   ]
  },
  {
   "cell_type": "markdown",
   "metadata": {},
   "source": [
    "## *Update User Password"
   ]
  },
  {
   "cell_type": "code",
   "execution_count": 5,
   "metadata": {
    "collapsed": false
   },
   "outputs": [],
   "source": [
    "from tableau_rest_api.tableau_rest_api import *\n",
    "import csv\n",
    "\n",
    "server = 'https://bi.tune.com'\n",
    "loginname = 'xiaojuan'\n",
    "loginPass = 'Has0ffers'\n",
    "user_info = []\n",
    "\n",
    "def read_csv_file(fileName):\n",
    "    with open(fileName, 'rU') as file:\n",
    "        read_file = csv.reader(file)\n",
    "        header = read_file.next()\n",
    "        for line in read_file:\n",
    "            user_info.append(line)\n",
    "    file.close()\n",
    "    return user_info\n",
    "\n",
    "def update_passwd(userInfo):   \n",
    "    for site, user, passwd in userInfo:\n",
    "        t = TableauRestApi(server, loginname, loginPass, site)\n",
    "        t.signin()\n",
    "        t.update_user(user, password = passwd)\n",
    "        print '%s Password Updated from %s'%(user, site)\n",
    "    t.signout()\n",
    "    print 'Mission Completed!!!'"
   ]
  },
  {
   "cell_type": "code",
   "execution_count": 6,
   "metadata": {
    "collapsed": false,
    "scrolled": true
   },
   "outputs": [
    {
     "name": "stdout",
     "output_type": "stream",
     "text": [
      "yuri@tune.com Password Updated from Mixi\n",
      "Sandor@tune.com Password Updated from Kabam\n",
      "Sandor@tune.com Password Updated from PocketGems\n",
      "Justin@tune.com Password Updated from Uber\n",
      "Kristin-Leigh@tune.com Password Updated from Rhapsody\n",
      "fatima@tune.com Password Updated from Xyrality\n",
      "Miso@tune.com Password Updated from Mixi\n",
      "Miso@tune.com Password Updated from 433\n",
      "Miso@tune.com Password Updated from Netmarble\n",
      "Daniella@tune.com Password Updated from AirRewardz\n",
      "Daniella@tune.com Password Updated from Trippa\n",
      "Daniella@tune.com Password Updated from CinetreatS\n",
      "jv@tune.com Password Updated from AirRewardz\n",
      "jv@tune.com Password Updated from Trippa\n",
      "jv@tune.com Password Updated from CinetreatS\n",
      "Neil@tune.com Password Updated from Ibotta\n",
      "david@tune.com Password Updated from BetaTest\n",
      "david@tune.com Password Updated from TuneBIDemo\n",
      "colins@tune.com Password Updated from TuneBIDemo\n",
      "nikki@tune.com Password Updated from TuneBIDemo\n",
      "megank@tune.com Password Updated from TuneBIDemo\n",
      "Demo Password Updated from TuneBIDemo\n",
      "yael@tune.com Password Updated from Amazon\n",
      "Mission Completed!!!\n"
     ]
    }
   ],
   "source": [
    "fileName = 'ChangePassword.csv'\n",
    "userInfo = read_csv_file(fileName)\n",
    "update_passwd(userInfo)"
   ]
  },
  {
   "cell_type": "markdown",
   "metadata": {},
   "source": [
    "## *Change Site Role"
   ]
  },
  {
   "cell_type": "code",
   "execution_count": 27,
   "metadata": {
    "collapsed": true
   },
   "outputs": [],
   "source": [
    "from tableau_rest_api.tableau_rest_api import *\n",
    "import csv\n",
    "\n",
    "server = 'https://bi.tune.com'\n",
    "loginname = 'xiaojuan'\n",
    "loginPass = 'Has0ffers'\n",
    "user_info = []\n",
    "\n",
    "def read_csv_file(fileName):\n",
    "    with open(fileName, 'rU') as file:\n",
    "        read_file = csv.reader(file)\n",
    "        header = read_file.next()\n",
    "        for line in read_file:\n",
    "            user_info.append(line)\n",
    "    file.close()\n",
    "    return user_info\n",
    "\n",
    "def update_siterole(userInfo):   \n",
    "    for site, user, siterole in userInfo:\n",
    "        t = TableauRestApi(server, loginname, loginPass, site)\n",
    "        t.signin()\n",
    "        t.update_user(user, site_role = siterole)\n",
    "        print '%s Site Role Updated from %s'%(user, site)\n",
    "    t.signout()\n",
    "    print 'Mission Completed!!!'"
   ]
  },
  {
   "cell_type": "code",
   "execution_count": 28,
   "metadata": {
    "collapsed": false
   },
   "outputs": [
    {
     "name": "stdout",
     "output_type": "stream",
     "text": [
      "test1 Site Role Updated from TuneBIDemo\n",
      "test2 Site Role Updated from Uber\n",
      "test3 Site Role Updated from BetaTest\n",
      "test4 Site Role Updated from BetaTest2\n",
      "Mission Completed!!!\n"
     ]
    }
   ],
   "source": [
    "fileName = 'ChangeSiterole.csv'\n",
    "userInfo = read_csv_file(fileName)\n",
    "update_passwd(userInfo)"
   ]
  },
  {
   "cell_type": "markdown",
   "metadata": {},
   "source": [
    "## *Get User Info and Generate CSV File"
   ]
  },
  {
   "cell_type": "code",
   "execution_count": 14,
   "metadata": {
    "collapsed": false
   },
   "outputs": [],
   "source": [
    "from tableau_rest_api.tableau_rest_api import *\n",
    "import pandas as pd\n",
    "import csv\n",
    "\n",
    "server = 'https://bi.tune.com'\n",
    "loginName = 'xiaojuan'\n",
    "loginPasswd = 'Has0ffers'\n",
    "\n",
    "def read_csv_file(fileName):\n",
    "    site_list = []\n",
    "    with open(fileName, 'rU') as file:\n",
    "        read_file = csv.reader(file)\n",
    "        #header = read_file.next()\n",
    "        for line in read_file:\n",
    "            site_list.append(line)\n",
    "    file.close()\n",
    "    site_list = [i for site in site_list for i in site]\n",
    "    return site_list\n",
    "\n",
    "def user_info(site_list):\n",
    "    username = []\n",
    "    siterole = []\n",
    "    lastLogin = []\n",
    "    newSite = []\n",
    "    valid_site_role = ['Guest', 'ServerAdministrator']\n",
    "    for site in site_list:\n",
    "        t = TableauRestApi(server, loginName, loginPasswd, site)\n",
    "        t.signin()\n",
    "        #print '%s Signin Succeed'%site\n",
    "        for user in t.query_users():\n",
    "            if user.get('siteRole') not in valid_site_role:\n",
    "                username.append(user.get('name'))\n",
    "                lastLogin.append(user.get('lastLogin'))\n",
    "                siterole.append(user.get('siteRole'))\n",
    "                newSite.append(site)\n",
    "        print 'Get the User info from %s'%site\n",
    "    #print username, siterole, lastLogin\n",
    "    df_user = pd.DataFrame({'site':newSite, 'username':username, 'siteRole':siterole, 'lastLogin':lastLogin})\n",
    "    df_user.to_csv('user.csv', sep = ',')\n",
    "    t.signout()\n",
    "    print 'CSV file generated'"
   ]
  },
  {
   "cell_type": "code",
   "execution_count": 15,
   "metadata": {
    "collapsed": false,
    "scrolled": false
   },
   "outputs": [
    {
     "name": "stdout",
     "output_type": "stream",
     "text": [
      "Get the User info from TuneBIDemo\n",
      "Get the User info from BetaTest\n",
      "Get the User info from BetaTest2\n",
      "Get the User info from Uber\n",
      "Get the User info from 433\n",
      "CSV file generated\n"
     ]
    }
   ],
   "source": [
    "site = read_csv_file('siteList.csv')\n",
    "user_info(site)"
   ]
  },
  {
   "cell_type": "markdown",
   "metadata": {},
   "source": [
    "## *Remove Users"
   ]
  },
  {
   "cell_type": "code",
   "execution_count": 11,
   "metadata": {
    "collapsed": true
   },
   "outputs": [],
   "source": [
    "from tableau_rest_api.tableau_rest_api import *\n",
    "import csv\n",
    "\n",
    "server = 'https://bi.tune.com'\n",
    "loginName = 'xiaojuan'\n",
    "loginPasswd = 'Has0ffers'\n",
    "user_info = []\n",
    "\n",
    "def read_csv_file(fileName):\n",
    "    with open(fileName, 'rU') as file:\n",
    "        read_file = csv.reader(file)\n",
    "        header = read_file.next()\n",
    "        for line in read_file:\n",
    "            user_info.append(line)\n",
    "    file.close()\n",
    "    return user_info\n",
    "\n",
    "def remove_users(userInfo):\n",
    "    for site, username in userInfo:\n",
    "        t = TableauRestApi(server, loginName, loginPasswd, site)\n",
    "        t.signin()\n",
    "        users_in_server = t.query_users()\n",
    "        for user in users_in_server:\n",
    "            if user.get('name') != username:\n",
    "                continue\n",
    "            else:\n",
    "                userId = user.get('id')\n",
    "                t.remove_users_from_site_by_luid(userId)\n",
    "                print '%s Removed from %s'%(username, site)\n",
    "    t.signout()\n",
    "    print 'Removed all users'\n",
    "    print 'Mission Completed!!!'"
   ]
  },
  {
   "cell_type": "code",
   "execution_count": 12,
   "metadata": {
    "collapsed": false,
    "scrolled": true
   },
   "outputs": [
    {
     "name": "stdout",
     "output_type": "stream",
     "text": [
      "test1 Removed from TuneBIDemo\n",
      "test2 Removed from Uber\n",
      "test3 Removed from BetaTest\n",
      "test4 Removed from BetaTest2\n",
      "Removed all users\n",
      "Mission Completed!!!\n"
     ]
    }
   ],
   "source": [
    "userInfo = read_csv_file('remove_user.csv')\n",
    "remove_users(userInfo)"
   ]
  },
  {
   "cell_type": "markdown",
   "metadata": {},
   "source": [
    "## *Get user info of Almost all sites"
   ]
  },
  {
   "cell_type": "code",
   "execution_count": 42,
   "metadata": {
    "collapsed": false,
    "scrolled": true
   },
   "outputs": [
    {
     "name": "stdout",
     "output_type": "stream",
     "text": [
      "Get the User info from Xyrality\n",
      "Get the User info from Mixi\n",
      "Get the User info from Ibotta\n",
      "Get the User info from TuneBIDemo\n",
      "Get the User info from AmericanWell\n",
      "Get the User info from 433\n",
      "Get the User info from Crowdstar\n",
      "Get the User info from AirRewardz\n",
      "Get the User info from Kabam\n",
      "Get the User info from Trippa\n",
      "Get the User info from Cinetreats\n",
      "Get the User info from PocketGems\n",
      "Get the User info from Uber\n",
      "Get the User info from NetMarble\n",
      "Get the User info from Uber-Fetch\n",
      "Get the User info from Rhapsody\n",
      "Get the User info from NextGames\n",
      "Get the User info from Amazon\n",
      "Get the User info from Match\n",
      "CSV file generated\n"
     ]
    }
   ],
   "source": [
    "from tableau_rest_api.tableau_rest_api import *\n",
    "import pandas as pd\n",
    "\n",
    "server = 'https://bi.tune.com'\n",
    "loginName = 'xiaojuan'\n",
    "loginPasswd = 'Has0ffers'\n",
    "\n",
    "username = []\n",
    "siterole = []\n",
    "lastLogin = []\n",
    "newSite = []\n",
    "cur_date = []\n",
    "invalid_site_role = ['Guest', 'ServerAdministrator', 'Unlicensed']\n",
    "invalid_sites = ['Default', 'BetaTest', 'BetaTest2', 'WebDemo'] #Some sites I really don't care about\n",
    "\n",
    "\n",
    "t = TableauRestApi(server, loginName, loginPasswd)\n",
    "t.signin()\n",
    "valid_site = [site for site in t.query_all_site_names() if site not in invalid_sites]\n",
    "t.signout()\n",
    "\n",
    "for site in valid_site:\n",
    "    t = TableauRestApi(server, loginName, loginPasswd, site)\n",
    "    t.signin()\n",
    "    for user in t.query_users():\n",
    "        if user.get('siteRole') not in invalid_site_role:\n",
    "            username.append(user.get('name'))\n",
    "            lastLogin.append(user.get('lastLogin'))\n",
    "            siterole.append(user.get('siteRole'))\n",
    "            newSite.append(site)\n",
    "            cur_date.append()\n",
    "    print 'Get the User info from %s'%site\n",
    "#print username, siterole, lastLogin\n",
    "df_user = pd.DataFrame({'site':newSite, 'username':username, 'siteRole':siterole, 'lastLogin':lastLogin})\n",
    "df_user.to_csv('user.csv', sep = ',')\n",
    "t.signout()\n",
    "print 'CSV file generated'"
   ]
  },
  {
   "cell_type": "markdown",
   "metadata": {},
   "source": [
    "### ***Just Testing"
   ]
  },
  {
   "cell_type": "code",
   "execution_count": 29,
   "metadata": {
    "collapsed": false
   },
   "outputs": [],
   "source": [
    "from tableau_rest_api.tableau_rest_api import *\n",
    "server = 'https://bi.tune.com'\n",
    "loginName = 'xiaojuan'\n",
    "loginPasswd = 'Has0ffers'\n",
    "site = 'BetaTest'\n",
    "t = TableauRestApi(server, loginName, loginPasswd)\n",
    "t.signin()\n"
   ]
  },
  {
   "cell_type": "code",
   "execution_count": 36,
   "metadata": {
    "collapsed": false,
    "scrolled": true
   },
   "outputs": [
    {
     "data": {
      "text/plain": [
       "['Xyrality',\n",
       " 'Mixi',\n",
       " 'Ibotta',\n",
       " 'TuneBIDemo',\n",
       " 'AmericanWell',\n",
       " '433',\n",
       " 'Crowdstar',\n",
       " 'AirRewardz',\n",
       " 'Kabam',\n",
       " 'Trippa',\n",
       " 'Cinetreats',\n",
       " 'PocketGems',\n",
       " 'Uber',\n",
       " 'NetMarble',\n",
       " 'Uber-Fetch',\n",
       " 'Rhapsody',\n",
       " 'NextGames',\n",
       " 'Amazon',\n",
       " 'Match']"
      ]
     },
     "execution_count": 36,
     "metadata": {},
     "output_type": "execute_result"
    }
   ],
   "source": [
    "invalid_sites = ['Default', 'BetaTest', 'BetaTest2', 'WebDemo']\n",
    "sites = [site for site in t.query_all_site_names() if site not in invalid_sites]\n",
    "sites"
   ]
  }
 ],
 "metadata": {
  "kernelspec": {
   "display_name": "Python 2",
   "language": "python",
   "name": "python2"
  },
  "language_info": {
   "codemirror_mode": {
    "name": "ipython",
    "version": 2
   },
   "file_extension": ".py",
   "mimetype": "text/x-python",
   "name": "python",
   "nbconvert_exporter": "python",
   "pygments_lexer": "ipython2",
   "version": "2.7.10"
  }
 },
 "nbformat": 4,
 "nbformat_minor": 0
}
